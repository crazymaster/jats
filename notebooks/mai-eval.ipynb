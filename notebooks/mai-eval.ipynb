{
 "nbformat": 4,
 "nbformat_minor": 2,
 "metadata": {
  "language_info": {
   "name": "python",
   "codemirror_mode": {
    "name": "ipython",
    "version": 3
   },
   "version": "3.6.8"
  },
  "orig_nbformat": 2,
  "file_extension": ".py",
  "mimetype": "text/x-python",
  "name": "python",
  "npconvert_exporter": "python",
  "pygments_lexer": "ipython3",
  "version": 3
 },
 "cells": [
  {
   "cell_type": "markdown",
   "metadata": {},
   "outputs": [],
   "source": [
    "## Doc2Vec"
   ]
  },
  {
   "cell_type": "code",
   "metadata": {},
   "outputs": [],
   "source": [
    "import pandas as pd\n",
    "result = pd.read_csv('../results/mai_doc2vec_sim.csv')\n",
    "result[['ID_Maisho', 'ID_Mai', 'SIM', 'T1_Maisho', 'T1_Mai', 'T2_Maisho', 'T2_Mai']].sort_values('SIM', ascending=False)\n",
    "# result[['ID_Maisho', 'ID_Mai', 'SIM', 'T1_Maisho', 'T1_Mai', 'T2_Maisho', 'T2_Mai']].sort_values('SIM', ascending=False).to_csv('../results/mai_doc2vec_sim_topn.csv', index=False)"
   ]
  },
  {
   "cell_type": "code",
   "metadata": {},
   "outputs": [],
   "source": [
    "df = pd.read_csv('../results/mai_doc2vec_sim_topn.csv')\n",
    "df['Match'].value_counts()"
   ]
  },
  {
   "cell_type": "markdown",
   "metadata": {},
   "outputs": [],
   "source": [
    "## LSI (Latent Semantic Indexing)"
   ]
  },
  {
   "cell_type": "code",
   "metadata": {},
   "outputs": [],
   "source": [
    "import pandas as pd\n",
    "result = pd.read_csv('../results/mai_lsi_sim.csv')\n",
    "result[['ID_Maisho', 'ID_Mai', 'SIM', 'T1_Maisho', 'T1_Mai', 'T2_Maisho', 'T2_Mai']].sort_values('SIM', ascending=False)\n",
    "# result[['ID_Maisho', 'ID_Mai', 'SIM', 'T1_Maisho', 'T1_Mai', 'T2_Maisho', 'T2_Mai']].sort_values('SIM', ascending=False).to_csv('../results/mai_lsi_sim_topn.csv', index=False)"
   ]
  },
  {
   "cell_type": "code",
   "metadata": {},
   "outputs": [],
   "source": [
    "df = pd.read_csv('../results/mai_lsi_sim_topn.csv')\n",
    "df['Match'].value_counts()"
   ]
  }
 ]
}