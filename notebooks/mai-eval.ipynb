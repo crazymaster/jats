{
 "nbformat": 4,
 "nbformat_minor": 2,
 "metadata": {
  "language_info": {
   "name": "python",
   "codemirror_mode": {
    "name": "ipython",
    "version": 3
   },
   "version": "3.6.8"
  },
  "orig_nbformat": 2,
  "file_extension": ".py",
  "mimetype": "text/x-python",
  "name": "python",
  "npconvert_exporter": "python",
  "pygments_lexer": "ipython3",
  "version": 3
 },
 "cells": [
  {
   "cell_type": "markdown",
   "execution_count": null,
   "metadata": {},
   "outputs": [],
   "source": [
    "## Doc2Vec"
   ]
  },
  {
   "cell_type": "code",
   "execution_count": null,
   "metadata": {},
   "outputs": [],
   "source": [
    "import pandas as pd\n",
    "result = pd.read_csv('../results/mai_doc2vec_sim.csv')\n",
    "result[['ID_Maisho', 'ID_Mai', 'SIM', 'T1_Maisho', 'T1_Mai', 'T2_Maisho', 'T2_Mai']].sort_values('SIM', ascending=False)\n",
    "# result[['ID_Maisho', 'ID_Mai', 'SIM', 'T1_Maisho', 'T1_Mai', 'T2_Maisho', 'T2_Mai']].sort_values('SIM', ascending=False).to_csv('../results/mai_doc2vec_sim_topn.csv', index=False)"
   ]
  },
  {
   "cell_type": "code",
   "execution_count": null,
   "metadata": {},
   "outputs": [],
   "source": [
    "d2v_eval = pd.read_csv('../results/mai_doc2vec_sim_topn.csv')\n",
    "d2v_eval['Match'].value_counts()"
   ]
  },
  {
   "cell_type": "markdown",
   "execution_count": null,
   "metadata": {},
   "outputs": [],
   "source": [
    "## LSI (Latent Semantic Indexing)"
   ]
  },
  {
   "cell_type": "code",
   "execution_count": null,
   "metadata": {},
   "outputs": [],
   "source": [
    "import pandas as pd\n",
    "result = pd.read_csv('../results/mai_lsi_sim.csv')\n",
    "result[['ID_Maisho', 'ID_Mai', 'SIM', 'T1_Maisho', 'T1_Mai', 'T2_Maisho', 'T2_Mai']].sort_values('SIM', ascending=False)\n",
    "# result[['ID_Maisho', 'ID_Mai', 'SIM', 'T1_Maisho', 'T1_Mai', 'T2_Maisho', 'T2_Mai']].sort_values('SIM', ascending=False).to_csv('../results/mai_lsi_sim_topn.csv', index=False)"
   ]
  },
  {
   "cell_type": "code",
   "execution_count": null,
   "metadata": {},
   "outputs": [],
   "source": [
    "lsi_eval = pd.read_csv('../results/mai_lsi_sim_topn.csv')\n",
    "lsi_eval['Match'].value_counts()"
   ]
  },
  {
   "cell_type": "code",
   "execution_count": null,
   "metadata": {},
   "outputs": [],
   "source": [
    "df_eval = pd.concat([d2v_eval, lsi_eval], ignore_index=True)\n",
    "df_eval.dropna(subset=['Match'], inplace=True)\n",
    "df_eval"
   ]
  },
  {
   "cell_type": "code",
   "execution_count": null,
   "metadata": {},
   "outputs": [],
   "source": [
    "df_eval.duplicated(subset=['ID_Maisho', 'ID_Mai'], keep=False).value_counts()"
   ]
  },
  {
   "cell_type": "code",
   "execution_count": null,
   "metadata": {},
   "outputs": [],
   "source": [
    "df_eval.duplicated(subset=['ID_Maisho', 'ID_Mai',  'Match'], keep=False).value_counts()"
   ]
  },
  {
   "cell_type": "code",
   "execution_count": null,
   "metadata": {},
   "outputs": [],
   "source": [
    "# 同じペアに対する評価が異なるもの\n",
    "df_eval[df_eval.duplicated(subset=['ID_Maisho', 'ID_Mai'], keep=False) ^ df_eval.duplicated(subset=['ID_Maisho', 'ID_Mai', 'Match'], keep=False)]"
   ]
  },
  {
   "cell_type": "code",
   "execution_count": null,
   "metadata": {},
   "outputs": [],
   "source": [
    "# df_matched = df_eval[df_eval.Match == 1.0]\n",
    "df_dup = df_eval[df_eval.duplicated(subset=['ID_Maisho', 'ID_Mai'], keep=False)]\n",
    "df_dup"
   ]
  },
  {
   "cell_type": "code",
   "execution_count": null,
   "metadata": {},
   "outputs": [],
   "source": [
    "df_eval.drop_duplicates(subset=['ID_Maisho', 'ID_Mai'])\n",
    "# df_eval.drop_duplicates(subset=['ID_Maisho', 'ID_Mai']).to_csv('../results/mai_annotated.csv', index=False)"
   ]
  }
 ]
}