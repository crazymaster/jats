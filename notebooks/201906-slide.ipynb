{
 "cells": [
  {
   "cell_type": "code",
   "execution_count": 1,
   "metadata": {
    "pycharm": {
     "name": "#%% md\n"
    },
    "scrolled": false,
    "slideshow": {
     "slide_type": "skip"
    }
   },
   "outputs": [
    {
     "data": {
      "text/html": [
       "<link rel=\"stylesheet\" type=\"text/css\" href=\"custom.css\">\n"
      ],
      "text/plain": [
       "<IPython.core.display.HTML object>"
      ]
     },
     "metadata": {},
     "output_type": "display_data"
    }
   ],
   "source": [
    "%%HTML\n",
    "<link rel=\"stylesheet\" type=\"text/css\" href=\"custom.css\">"
   ]
  },
  {
   "cell_type": "markdown",
   "metadata": {
    "collapsed": true,
    "pycharm": {
     "is_executing": false,
     "name": "#%% md\n"
    },
    "slideshow": {
     "slide_type": "slide"
    }
   },
   "source": [
    "# 日本語教育語彙表による文の難易度推定\n",
    "\n",
    "## 発表者: 伊藤 健一"
   ]
  },
  {
   "cell_type": "markdown",
   "metadata": {
    "pycharm": {
     "name": "#%% md\n"
    },
    "slideshow": {
     "slide_type": "slide"
    }
   },
   "source": [
    "## 日本語教育語彙表\n",
    "\n",
    "- 約18000語の日本語教育用の語彙を収録\n",
    "- 日本語教育上の語彙レベルが付与\n",
    "- 5名の日本語教師が語彙難易度を判定\n",
    "\n",
    "レベル | 語彙例\n",
    ":- | :-\n",
    "初級前半 | 新しい、家、行く、今、大きい、教える、男、同じ、女、買う、書く\n",
    "初級後半 | 間、上げる、一緒、入れる、多い、大きな、置く、思う、顔、彼女、彼\n",
    "中級前半 | 受ける、多く、行う、返る、掛かる、形、関係、国民、情報\n",
    "中級後半 | 得る、及び、掛ける、可能性、気、企業、加える、示す、重要、重要\n",
    "上級前半 | 確保、感じる、観点、極めて、裁判、定める、施策、実態、推移\n",
    "上級後半 | 一環、講ずる、里、訴訟、太刀、調停、転ずる、あしらう、値する"
   ]
  },
  {
   "cell_type": "markdown",
   "metadata": {
    "slideshow": {
     "slide_type": "slide"
    }
   },
   "source": [
    "## 入力に用いたレベル別サンプルテキスト\n",
    "\n",
    "6段階のレベルイメージ\n",
    "\n",
    "レベル | 能力記述文\n",
    ":- | :- \n",
    "初級前半 | 単文を中心とする基礎的日本語表現に関して理解できる。複文や連体修飾構造などの複雑な文構造は理解できない。\n",
    "初級後半 | 基本的な語彙や文法項目について理解できる。テ形による基本的な複文なども理解できる。\n",
    "中級前半 | 比較的平易な文章に対する理解力があり、ある程度まとまった文章でも内容が把握できる。\n",
    "中級後半 | やや専門的な文章でも大まかな内容理解ができ、日常生活レベルの文章理解においてはほぼ不自由がなく遂行できる。\n",
    "上級前半 | 専門的な文章に関してもほぼ理解できる。文芸作品などに見られる複雑な構造についても理解できる。\n",
    "上級後半 | 高度に専門的な文章に関しても不自由なく、理解できる。日本語のあらゆるテキストに対して困難を感じない。"
   ]
  },
  {
   "cell_type": "markdown",
   "metadata": {
    "slideshow": {
     "slide_type": "slide"
    }
   },
   "source": [
    "### 各レベルの文章例\n",
    "\n",
    "- 初級前半： 音楽がすきですから、よくCDを聞きます。日本がすきですから、日本語を勉強します。\n",
    "- 初級後半： むかしむかし、金が大好きな一人の王様がいました。ある日王様の家に一人の老人がやって来ました。\n",
    "- 中級前半： 毎週 1 回は祖母の家に子どもたちが孫たちをつれて集まります。祖母の80さいの誕生日には、マニラで一番大きなホテルを借りて、大家族の全員と親しい友人が、全部で 500 人以上集まりました。\n",
    "- 上級前半： 動物の動きにしてもそうで、ネズミはちょこまかしているし、ゾウはゆっくりと足を運んでいく。体のサイズと時間との間に、何か関係があるのではないかと、古来、いろいろな人が調べてきた。\n",
    "- 上級後半： 数学は，科学を記述する普遍的な言語であるという基本的な性格を持つ。また「自然は数学の言葉で書かれた書物である」とはガリレイの言である。"
   ]
  },
  {
   "cell_type": "code",
   "execution_count": 2,
   "metadata": {
    "scrolled": false,
    "slideshow": {
     "slide_type": "slide"
    }
   },
   "outputs": [
    {
     "data": {
      "image/png": "[encoded data removed]",
      "text/plain": [
       "<Figure size 1152x720 with 6 Axes>"
      ]
     },
     "metadata": {
      "needs_background": "light"
     },
     "output_type": "display_data"
    }
   ],
   "source": [
    "%matplotlib inline\n",
    "from jatr import load_text\n",
    "import jatr.vocab as jv\n",
    "import seaborn as sns\n",
    "import japanize_matplotlib\n",
    "import matplotlib.pyplot as plt\n",
    "\n",
    "f, axes = plt.subplots(2, 3, figsize=(16, 10), sharey=True)\n",
    "sns.despine(left=True)\n",
    "sns.distplot(jv.Vocab(load_text('../data/サンプルテキスト/初級前半.txt')).level_list, kde=False, ax=axes[0, 0], axlabel='語彙のレベル')\n",
    "sns.distplot(jv.Vocab(load_text('../data/サンプルテキスト/初級後半.txt')).level_list, kde=False, ax=axes[0, 1], axlabel='語彙のレベル')\n",
    "sns.distplot(jv.Vocab(load_text('../data/サンプルテキスト/中級前半.txt')).level_list, kde=False, ax=axes[0, 2], axlabel='語彙のレベル')\n",
    "sns.distplot(jv.Vocab(load_text('../data/サンプルテキスト/中級後半.txt')).level_list, kde=False, ax=axes[1, 0], axlabel='語彙のレベル')\n",
    "sns.distplot(jv.Vocab(load_text('../data/サンプルテキスト/上級前半.txt')).level_list, kde=False, ax=axes[1, 1], axlabel='語彙のレベル')\n",
    "sns.distplot(jv.Vocab(load_text('../data/サンプルテキスト/上級後半.txt')).level_list, kde=False, ax=axes[1, 2], axlabel='語彙のレベル')\n",
    "plt.setp(axes, yticks=[])\n",
    "plt.tight_layout()"
   ]
  },
  {
   "cell_type": "markdown",
   "metadata": {
    "slideshow": {
     "slide_type": "slide"
    }
   },
   "source": [
    "## 参考文献\n",
    "\n",
    "- [日本語教育語彙表](https://jreadability.net/jev/)\n",
    "- [jReadability](https://jreadability.net/sys/)"
   ]
  }
 ],
 "metadata": {
  "celltoolbar": "Slideshow",
  "kernelspec": {
   "display_name": "Python 3",
   "language": "python",
   "name": "python3"
  },
  "language_info": {
   "codemirror_mode": {
    "name": "ipython",
    "version": 3
   },
   "file_extension": ".py",
   "mimetype": "text/x-python",
   "name": "python",
   "nbconvert_exporter": "python",
   "pygments_lexer": "ipython3",
   "version": "3.7.3"
  },
  "pycharm": {
   "stem_cell": {
    "cell_type": "raw",
    "metadata": {
     "collapsed": false
    },
    "source": []
   }
  },
  "rise": {
   "scroll": true
  }
 },
 "nbformat": 4,
 "nbformat_minor": 1
}
