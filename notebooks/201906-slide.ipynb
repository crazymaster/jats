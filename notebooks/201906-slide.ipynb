{
 "cells": [
  {
   "cell_type": "markdown",
   "metadata": {
    "collapsed": true,
    "pycharm": {
     "is_executing": false,
     "name": "#%% md\n"
    },
    "slideshow": {
     "slide_type": "slide"
    }
   },
   "source": [
    "# 日本語教育語彙表による文の難易度推定\n",
    "\n",
    "## 発表者: 伊藤 健一"
   ]
  },
  {
   "cell_type": "markdown",
   "metadata": {
    "pycharm": {
     "name": "#%% md\n"
    },
    "slideshow": {
     "slide_type": "slide"
    }
   },
   "source": [
    "## 日本語教育語彙表\n",
    "\n",
    "- 約18000語の日本語教育用の語彙を収録\n",
    "- 作成における基礎として「現代日本語書き言葉均衡コーパス」と「日本語教科書コーパス」を利用\n",
    "- 5名の日本語教師が語彙難易度を判定\n",
    "\n",
    "レベル | 語彙例\n",
    ":- | :-\n",
    "初級前半 | 新しい、家、行く、今、大きい、教える、男、同じ、女、買う、書く、聞く、来る、車、子供、時間、仕事、写真、知る、好き、分かる、悪\n",
    "初級後半 | 間、上げる、一緒、入れる、多い、大きな、置く、思う、顔、彼女、彼、変わる、考える、決める、気持ち、声、心、言葉、自分、女性、呼ぶ\n",
    "中級前半 | 合わせる、受ける、多く、行う、返る、掛かる、形、関係、国民、情報、図、進める、中心、次、付く、続く、特に、人間、場合、必要、開く、増える、米国、平成、理由\n",
    "中級後半 | 得る、及び、掛ける、可能性、気、企業、加える、示す、重要、重要、状況、整備、地域、共、共、含む、認める、向ける、目指す、最も、求める、者、物、様、我が\n",
    "上級前半 | 確保、感じる、観点、極めて、裁判、定める、施策、実態、推移、推進、高まる、通ずる、常、背景、図る、果たす、踏まえる、経る、設ける、有する、連携\n",
    "上級後半 | 一環、講ずる、里、訴訟、太刀、調停、転ずる、あしらう、値する、厚紙、当て字、跡継ぎ、暴く、甘んずる、編み出す、アミノ酸、あやす、荒波"
   ]
  },
  {
   "cell_type": "markdown",
   "metadata": {
    "slideshow": {
     "slide_type": "slide"
    }
   },
   "source": [
    "## 入力に用いたレベル別サンプルテキスト\n",
    "\n",
    "6段階のレベルイメージ\n",
    "\n",
    "レベル | 能力記述文\n",
    ":- | :- \n",
    "初級前半 | 単文を中心とする基礎的日本語表現に関して理解できる。複文や連体修飾構造などの複雑な文構造は理解できない。\n",
    "初級後半 | 基本的な語彙や文法項目について理解できる。テ形による基本的な複文なども理解できる。\n",
    "中級前半 | 比較的平易な文章に対する理解力があり、ある程度まとまった文章でも内容が把握できる。\n",
    "中級後半 | やや専門的な文章でも大まかな内容理解ができ、日常生活レベルの文章理解においてはほぼ不自由がなく遂行できる。\n",
    "上級前半 | 専門的な文章に関してもほぼ理解できる。文芸作品などに見られる複雑な構造についても理解できる。\n",
    "上級後半 | 高度に専門的な文章に関しても不自由なく、理解できる。日本語のあらゆるテキストに対して困難を感じない。"
   ]
  },
  {
   "cell_type": "markdown",
   "metadata": {
    "slideshow": {
     "slide_type": "slide"
    }
   },
   "source": [
    "### 各レベルの文章例\n",
    "\n",
    "- 初級前半： 音楽がすきですから、よくCDを聞きます。日本がすきですから、日本語を勉強します。\n",
    "- 初級後半： むかしむかし、金が大好きな一人の王様がいました。ある日王様の家に一人の老人がやって来ました。\n",
    "- 中級前半： 毎週 1 回は祖母の家に子どもたちが孫たちをつれて集まります。祖母の80さいの誕生日には、マニラで一番大きなホテルを借りて、大家族の全員と親しい友人が、全部で 500 人以上集まりました。\n",
    "- 上級前半： 動物の動きにしてもそうで、ネズミはちょこまかしているし、ゾウはゆっくりと足を運んでいく。体のサイズと時間との間に、何か関係があるのではないかと、古来、いろいろな人が調べてきた。\n",
    "- 上級後半： 数学は，科学を記述する普遍的な言語であるという基本的な性格を持つ。また「自然は数学の言葉で書かれた書物である」とはガリレイの言である。"
   ]
  },
  {
   "cell_type": "code",
   "execution_count": 1,
   "metadata": {
    "pycharm": {
     "is_executing": false
    },
    "slideshow": {
     "slide_type": "skip"
    }
   },
   "outputs": [],
   "source": [
    "from jatr import load_text\n",
    "import jatr.vocab as jv\n",
    "\n",
    "levels = ['初級前半', '初級後半', '中級前半', '中級後半', '上級前半', '上級後半']\n",
    "level_lists = []\n",
    "for item in levels:\n",
    "    level_lists.append(jv.Vocab(load_text('../data/サンプルテキスト/' + item + '.txt')).level_list)"
   ]
  },
  {
   "cell_type": "code",
   "execution_count": 2,
   "metadata": {
    "pycharm": {
     "is_executing": false
    },
    "slideshow": {
     "slide_type": "skip"
    }
   },
   "outputs": [
    {
     "data": {
      "text/html": [
       "<div>\n",
       "<style scoped>\n",
       "    .dataframe tbody tr th:only-of-type {\n",
       "        vertical-align: middle;\n",
       "    }\n",
       "\n",
       "    .dataframe tbody tr th {\n",
       "        vertical-align: top;\n",
       "    }\n",
       "\n",
       "    .dataframe thead th {\n",
       "        text-align: right;\n",
       "    }\n",
       "</style>\n",
       "<table border=\"1\" class=\"dataframe\">\n",
       "  <thead>\n",
       "    <tr style=\"text-align: right;\">\n",
       "      <th></th>\n",
       "      <th>初級前半</th>\n",
       "      <th>初級後半</th>\n",
       "      <th>中級前半</th>\n",
       "      <th>中級後半</th>\n",
       "      <th>上級前半</th>\n",
       "      <th>上級後半</th>\n",
       "    </tr>\n",
       "  </thead>\n",
       "  <tbody>\n",
       "    <tr>\n",
       "      <th>0</th>\n",
       "      <td>1.0</td>\n",
       "      <td>3.0</td>\n",
       "      <td>1.0</td>\n",
       "      <td>4.0</td>\n",
       "      <td>2.0</td>\n",
       "      <td>3.0</td>\n",
       "    </tr>\n",
       "    <tr>\n",
       "      <th>1</th>\n",
       "      <td>1.0</td>\n",
       "      <td>1.0</td>\n",
       "      <td>3.0</td>\n",
       "      <td>4.0</td>\n",
       "      <td>3.0</td>\n",
       "      <td>3.0</td>\n",
       "    </tr>\n",
       "    <tr>\n",
       "      <th>2</th>\n",
       "      <td>4.0</td>\n",
       "      <td>1.0</td>\n",
       "      <td>3.0</td>\n",
       "      <td>4.0</td>\n",
       "      <td>2.0</td>\n",
       "      <td>4.0</td>\n",
       "    </tr>\n",
       "    <tr>\n",
       "      <th>3</th>\n",
       "      <td>3.0</td>\n",
       "      <td>3.0</td>\n",
       "      <td>1.0</td>\n",
       "      <td>4.0</td>\n",
       "      <td>3.0</td>\n",
       "      <td>5.0</td>\n",
       "    </tr>\n",
       "    <tr>\n",
       "      <th>4</th>\n",
       "      <td>3.0</td>\n",
       "      <td>2.0</td>\n",
       "      <td>1.0</td>\n",
       "      <td>2.0</td>\n",
       "      <td>1.0</td>\n",
       "      <td>3.0</td>\n",
       "    </tr>\n",
       "  </tbody>\n",
       "</table>\n",
       "</div>"
      ],
      "text/plain": [
       "   初級前半  初級後半  中級前半  中級後半  上級前半  上級後半\n",
       "0   1.0   3.0   1.0   4.0   2.0   3.0\n",
       "1   1.0   1.0   3.0   4.0   3.0   3.0\n",
       "2   4.0   1.0   3.0   4.0   2.0   4.0\n",
       "3   3.0   3.0   1.0   4.0   3.0   5.0\n",
       "4   3.0   2.0   1.0   2.0   1.0   3.0"
      ]
     },
     "execution_count": 2,
     "metadata": {},
     "output_type": "execute_result"
    }
   ],
   "source": [
    "%matplotlib inline\n",
    "import seaborn as sns\n",
    "import japanize_matplotlib\n",
    "import matplotlib.pyplot as plt\n",
    "import pandas as pd\n",
    "\n",
    "# https://stackoverflow.com/questions/40442014/python-pandas-valueerror-arrays-must-be-all-same-length/40442094\n",
    "# https://stackoverflow.com/questions/19736080/creating-dataframe-from-a-dictionary-where-entries-have-different-lengths\n",
    "df = pd.DataFrame.from_dict({level: level_lists[i] for i, level in enumerate(levels)}, orient='index')\n",
    "df = df.transpose()\n",
    "df.head()"
   ]
  },
  {
   "cell_type": "code",
   "execution_count": 3,
   "metadata": {
    "pycharm": {
     "is_executing": false
    },
    "scrolled": false,
    "slideshow": {
     "slide_type": "slide"
    }
   },
   "outputs": [
    {
     "data": {
      "text/plain": [
       "array([[<matplotlib.axes._subplots.AxesSubplot object at 0x7fc3bdd803c8>,\n",
       "        <matplotlib.axes._subplots.AxesSubplot object at 0x7fc3bdd6c7b8>,\n",
       "        <matplotlib.axes._subplots.AxesSubplot object at 0x7fc3bdd209e8>],\n",
       "       [<matplotlib.axes._subplots.AxesSubplot object at 0x7fc3bdcd2c88>,\n",
       "        <matplotlib.axes._subplots.AxesSubplot object at 0x7fc3bdbc7f28>,\n",
       "        <matplotlib.axes._subplots.AxesSubplot object at 0x7fc3bdb43208>]],\n",
       "      dtype=object)"
      ]
     },
     "execution_count": 3,
     "metadata": {},
     "output_type": "execute_result"
    },
    {
     "data": {
      "image/png": "[encoded data removed]",
      "text/plain": [
       "<Figure size 720x504 with 6 Axes>"
      ]
     },
     "metadata": {
      "needs_background": "light"
     },
     "output_type": "display_data"
    }
   ],
   "source": [
    "# グラフの面積の合計が1になるように標準化\n",
    "df.plot(kind='hist', subplots=True, layout=(2,3), bins=6, figsize=(10, 7), sharey=True, density=True)"
   ]
  },
  {
   "cell_type": "code",
   "execution_count": 4,
   "metadata": {
    "pycharm": {
     "is_executing": false
    },
    "slideshow": {
     "slide_type": "slide"
    }
   },
   "outputs": [
    {
     "data": {
      "text/plain": [
       "<matplotlib.axes._subplots.AxesSubplot at 0x7fc3bda58320>"
      ]
     },
     "execution_count": 4,
     "metadata": {},
     "output_type": "execute_result"
    },
    {
     "data": {
      "image/png": "[encoded data removed]",
      "text/plain": [
       "<Figure size 720x432 with 1 Axes>"
      ]
     },
     "metadata": {
      "needs_background": "light"
     },
     "output_type": "display_data"
    }
   ],
   "source": [
    "plt.figure(figsize=(10,6))\n",
    "sns.boxenplot(data=df)\n",
    "# sns.violinplot(data=df)"
   ]
  },
  {
   "cell_type": "markdown",
   "metadata": {
    "slideshow": {
     "slide_type": "skip"
    }
   },
   "source": [
    "```\n",
    "python3 -m jatr < data/サンプルテキスト/初級前半.txt \n",
    "文章全体\n",
    "文数: 23\n",
    "1文あたりの文字数: 12.782608695652174\n",
    "1文あたりの単語数: 8.08695652173913\n",
    "文字数: 294\n",
    "単語数: 186\n",
    "マッチした単語数: 97\n",
    "語彙の難易度\n",
    "平均値: 2.0618556701030926\n",
    "最大値: 6\n",
    "中央値: 2\n",
    "最頻値: 1\n",
    "標準偏差: 1.188612925760621\n",
    "分散: 1.4128006872852235\n",
    "\n",
    "python3 -m jatr < data/サンプルテキスト/初級後半.txt \n",
    "文章全体\n",
    "文数: 35\n",
    "1文あたりの文字数: 24.62857142857143\n",
    "1文あたりの単語数: 15.771428571428572\n",
    "文字数: 862\n",
    "単語数: 552\n",
    "マッチした単語数: 332\n",
    "語彙の難易度\n",
    "平均値: 2.463855421686747\n",
    "最大値: 6\n",
    "中央値: 2.0\n",
    "最頻値: 1\n",
    "標準偏差: 1.4275729568080895\n",
    "分散: 2.0379645470097913\n",
    "\n",
    "python3 -m jatr < data/サンプルテキスト/中級前半.txt \n",
    "文章全体\n",
    "文数: 30\n",
    "1文あたりの文字数: 31.466666666666665\n",
    "1文あたりの単語数: 19.033333333333335\n",
    "文字数: 944\n",
    "単語数: 571\n",
    "マッチした単語数: 349\n",
    "語彙の難易度\n",
    "平均値: 2.3696275071633237\n",
    "最大値: 6\n",
    "中央値: 2\n",
    "最頻値: 2\n",
    "標準偏差: 1.2563837583344903\n",
    "分散: 1.578500148206699\n",
    "\n",
    "python3 -m jatr < data/サンプルテキスト/中級後半.txt \n",
    "文章全体\n",
    "文数: 19\n",
    "1文あたりの文字数: 40.36842105263158\n",
    "1文あたりの単語数: 25.68421052631579\n",
    "文字数: 767\n",
    "単語数: 488\n",
    "マッチした単語数: 348\n",
    "語彙の難易度\n",
    "平均値: 2.9655172413793105\n",
    "最大値: 6\n",
    "中央値: 3.0\n",
    "最頻値: nan\n",
    "標準偏差: 1.4579467292764607\n",
    "分散: 2.12560866540793\n",
    "\n",
    "python3 -m jatr < data/サンプルテキスト/上級前半.txt \n",
    "文章全体\n",
    "文数: 18\n",
    "1文あたりの文字数: 51.05555555555556\n",
    "1文あたりの単語数: 31.72222222222222\n",
    "文字数: 919\n",
    "単語数: 571\n",
    "マッチした単語数: 356\n",
    "語彙の難易度\n",
    "平均値: 2.9353932584269664\n",
    "最大値: 6\n",
    "中央値: 3.0\n",
    "最頻値: 1\n",
    "標準偏差: 1.51751654509283\n",
    "分散: 2.3028564646304797\n",
    "\n",
    "python3 -m jatr < data/サンプルテキスト/上級後半.txt \n",
    "文章全体\n",
    "文数: 17\n",
    "1文あたりの文字数: 63.05882352941177\n",
    "1文あたりの単語数: 38.0\n",
    "文字数: 1072\n",
    "単語数: 646\n",
    "マッチした単語数: 438\n",
    "語彙の難易度\n",
    "平均値: 3.5433789954337898\n",
    "最大値: 6\n",
    "中央値: 4.0\n",
    "最頻値: 4\n",
    "標準偏差: 1.400127322656526\n",
    "分散: 1.9603565196493318\n",
    "```"
   ]
  },
  {
   "cell_type": "markdown",
   "metadata": {
    "pycharm": {
     "name": "#%% md\n"
    },
    "slideshow": {
     "slide_type": "slide"
    }
   },
   "source": [
    "## 参考サイト\n",
    "\n",
    "- [日本語教育語彙表](https://jreadability.net/jev/)\n",
    "- [jReadability](https://jreadability.net/sys/)"
   ]
  }
 ],
 "metadata": {
  "celltoolbar": "Slideshow",
  "kernelspec": {
   "display_name": "Python 3",
   "language": "python",
   "name": "python3"
  },
  "language_info": {
   "codemirror_mode": {
    "name": "ipython",
    "version": 3
   },
   "file_extension": ".py",
   "mimetype": "text/x-python",
   "name": "python",
   "nbconvert_exporter": "python",
   "pygments_lexer": "ipython3",
   "version": "3.7.3"
  },
  "pycharm": {
   "stem_cell": {
    "cell_type": "raw",
    "source": [
     "%%HTML\n",
     "<link rel=\"stylesheet\" type=\"text/css\" href=\"custom.css\">\n"
    ],
    "metadata": {
     "collapsed": false
    }
   }
  },
  "rise": {
   "scroll": true
  }
 },
 "nbformat": 4,
 "nbformat_minor": 1
}
