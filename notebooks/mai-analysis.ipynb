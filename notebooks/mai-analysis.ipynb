{
 "cells": [
  {
   "cell_type": "code",
   "execution_count": 1,
   "metadata": {},
   "outputs": [],
   "source": [
    "import pandas as pd\n",
    "df = pd.read_csv('../results/mai_doc2vec_sim.csv')\n",
    "df"
   ]
  },
  {
   "cell_type": "code",
   "execution_count": 2,
   "metadata": {},
   "outputs": [],
   "source": [
    "import spacy\n",
    "nlp = spacy.load('ja_ginza')\n",
    "for p in nlp.pipeline:\n",
    "    print(p)"
   ]
  },
  {
   "cell_type": "code",
   "execution_count": 3,
   "metadata": {},
   "outputs": [],
   "source": [
    "import textdistance\n",
    "# text_pair = df.sort_values('SIM', ascending=False).iloc[203][['T2_Mai', 'T2_Maisho', 'SIM']].values.flatten()\n",
    "text_pair = df.sample(1)[['T2_Mai', 'T2_Maisho', 'SIM']].values.flatten()\n",
    "print(text_pair)\n",
    "print('longest common subsequence：', textdistance.lcsseq(text_pair[0], text_pair[1]))\n",
    "print('distance: ', textdistance.lcsseq.distance(text_pair[0], text_pair[1]))\n",
    "print('normalized distance: ', textdistance.lcsseq.normalized_distance(text_pair[0], text_pair[1]))\n",
    "print('similarity: ', textdistance.lcsseq.similarity(text_pair[0], text_pair[1]))\n",
    "print('normalized similarity: ', textdistance.lcsseq.normalized_similarity(text_pair[0], text_pair[1]))"
   ]
  },
  {
   "cell_type": "code",
   "execution_count": 4,
   "metadata": {},
   "outputs": [],
   "source": [
    "for i in range(2):\n",
    "    print('-------------------------------------------------')\n",
    "    doc = nlp(text_pair[i])\n",
    "    for s in doc.sents:\n",
    "        print(s)\n",
    "\n",
    "    from spacy import displacy\n",
    "    displacy.render(doc, style=\"ent\")"
   ]
  },
  {
   "cell_type": "code",
   "execution_count": 5,
   "metadata": {},
   "outputs": [],
   "source": [
    "import stanfordnlp\n",
    "nlp = stanfordnlp.Pipeline(lang=\"ja\", treebank=\"ja_gsd\")\n",
    "for i in range(2):\n",
    "    print('-------------------------------------------------')\n",
    "    doc = nlp(text_pair[i])\n",
    "    for sen in doc.sentences:\n",
    "        print(' '.join(word.text for word in sen.words))"
   ]
  },
  {
   "cell_type": "code",
   "execution_count": 6,
   "metadata": {},
   "outputs": [],
   "source": [
    "%%time\n",
    "import numpy as np\n",
    "@np.vectorize\n",
    "def lcs(t1, t2):\n",
    "    return textdistance.lcsseq.normalized_similarity(t1, t2)\n",
    "\n",
    "df['lcs_sim'] = lcs(df['T2_Mai'], df['T2_Maisho'])"
   ]
  },
  {
   "cell_type": "code",
   "execution_count": 0,
   "metadata": {},
   "outputs": [],
   "source": [
    "df.sort_values('SIM', ascending=False)['lcs_sim'].plot.hist(bins=1000)"
   ]
  },
  {
   "cell_type": "code",
   "execution_count": null,
   "metadata": {},
   "outputs": [],
   "source": []
  }
 ],
 "metadata": {
  "kernelspec": {
   "display_name": "Python 3",
   "language": "python",
   "name": "python3"
  },
  "language_info": {
   "codemirror_mode": {
    "name": "ipython",
    "version": 2
   },
   "file_extension": ".py",
   "mimetype": "text/x-python",
   "name": "python",
   "nbconvert_exporter": "python",
   "pygments_lexer": "ipython2",
   "version": "2.7.6"
  },
  "pycharm": {
   "stem_cell": {
    "cell_type": "raw",
    "source": [],
    "metadata": {
     "collapsed": false
    }
   }
  }
 },
 "nbformat": 4,
 "nbformat_minor": 0
}