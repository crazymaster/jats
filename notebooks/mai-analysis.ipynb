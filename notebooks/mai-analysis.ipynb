{
 "cells": [
  {
   "cell_type": "code",
   "execution_count": 2,
   "metadata": {
    "collapsed": true,
    "pycharm": {
     "is_executing": false,
     "name": "#%%\n"
    }
   },
   "outputs": [],
   "source": [
    "import pandas as pd\n",
    "import numpy as np\n",
    "from gensim.models.doc2vec import Doc2Vec\n",
    "maisho = pd.read_csv('../data/毎日新聞コーパス/maisho2018-utf8.csv')\n",
    "maisho"
   ]
  },
  {
   "cell_type": "code",
   "execution_count": 4,
   "metadata": {
    "pycharm": {
     "is_executing": false,
     "name": "#%%\n"
    }
   },
   "outputs": [],
   "source": [
    "from mojimoji import zen_to_han \n",
    "maisho.columns = ['ID', 'C0', 'AD', 'AE', 'AF', 'ZZ', 'T1', 'S1', 'S2', 'T2', 'KB']\n",
    "maisho.drop(maisho.index[maisho.ZZ == '著作権無'], inplace=True)\n",
    "maisho.drop(maisho.index[maisho.T1.str.contains('新聞休みます')], inplace=True)\n",
    "maisho = maisho.applymap(lambda x: zen_to_han(str(x), kana=False))\n",
    "maisho.drop_duplicates(subset='T2', inplace=True)\n",
    "maisho"
   ]
  },
  {
   "cell_type": "code",
   "execution_count": 3,
   "metadata": {
    "pycharm": {
     "is_executing": false,
     "name": "#%%\n"
    }
   },
   "outputs": [],
   "source": [
    "# ふりがなの削除 ()の中身がひらがなのときのみ\n",
    "maisho.T2 = maisho.T2.str.replace('\\([\\u3041-\\u309F]+\\)', '')\n",
    "maisho.T2"
   ]
  },
  {
   "cell_type": "code",
   "execution_count": 10,
   "metadata": {
    "pycharm": {
     "is_executing": false,
     "name": "#%%\n"
    }
   },
   "outputs": [],
   "source": [
    "mai = pd.read_csv('../data/毎日新聞コーパス/mai2018-utf8.csv')\n",
    "mai"
   ]
  },
  {
   "cell_type": "code",
   "execution_count": 12,
   "metadata": {
    "pycharm": {
     "is_executing": false,
     "name": "#%%\n"
    }
   },
   "outputs": [],
   "source": [
    "mai.drop(mai.index[mai.ZZ == '著作権無'], inplace=True)\n",
    "mai.drop(mai.index[mai.T1.str.contains('(?:朝刊|夕刊)休みます')], inplace=True)\n",
    "mai.drop(mai.index[mai.T1.str.contains('東日本大震災・(?:空間|大気中の環境)放射線量')], inplace=True)\n",
    "mai.drop(mai.index[mai.T2.str.len() < 100], inplace=True)\n",
    "mai.drop_duplicates(subset='T2', inplace=True)\n",
    "mai.T2 = mai.T2.str.replace('\\([\\u3041-\\u309F]+\\)', '')\n",
    "mai"
   ]
  },
  {
   "cell_type": "code",
   "execution_count": 6,
   "metadata": {
    "pycharm": {
     "is_executing": false,
     "name": "#%%\n"
    }
   },
   "outputs": [],
   "source": [
    "import MeCab\n",
    "def wakati(text: str) -> str:\n",
    "    \"\"\"分かち書きにして返す\"\"\"\n",
    "    # nd_path = sp.check_output('echo `mecab-config --dicdir`\"/mecab-ipadic-neologd\"',\n",
    "    #                           shell=True).decode().strip('\\n')\n",
    "    # m = MeCab.Tagger(\"-Owakati -d \" + nd_path)\n",
    "    m = MeCab.Tagger(\"-Owakati\")\n",
    "    return m.parse(text)\n",
    "\n",
    "maisho['wakati'] = maisho.T2.map(wakati)\n",
    "mai['wakati'] = mai.T2.map(wakati)"
   ]
  },
  {
   "cell_type": "code",
   "execution_count": 7,
   "metadata": {
    "pycharm": {
     "is_executing": false,
     "name": "#%%\n"
    }
   },
   "outputs": [],
   "source": [
    "from gensim.models.doc2vec import TaggedDocument\n",
    "documents = [TaggedDocument(words = text.split(\" \"), tags = [ID]) \n",
    "             for df in [mai, maisho] for ID, text in df[['ID', 'wakati']].values]"
   ]
  },
  {
   "cell_type": "code",
   "execution_count": 8,
   "metadata": {
    "pycharm": {
     "is_executing": false,
     "name": "#%%\n"
    }
   },
   "outputs": [],
   "source": [
    "from multiprocessing import cpu_count\n",
    "settings = {\n",
    "    \"dbow300d\": {\"vector_size\": 300,\n",
    "                 \"epochs\": 20,\n",
    "                 \"window\": 15,\n",
    "                 \"min_count\": 5,\n",
    "                 \"dm\": 0,  # PV-DBOW\n",
    "                 \"dbow_words\": 1,\n",
    "                 \"workers\": cpu_count()},\n",
    "    \"dmpv300d\": {\"vector_size\": 300,\n",
    "                 \"epochs\": 20,\n",
    "                 \"window\": 10,\n",
    "                 \"min_count\": 2,\n",
    "                 \"alpha\": 0.05,\n",
    "                 \"dm\": 1,  # PV-DM\n",
    "                 \"sample\": 0,\n",
    "                 \"workers\": cpu_count()}\n",
    "}\n",
    "\n",
    "for setting_name, setting in settings.items():\n",
    "    model = Doc2Vec(documents=documents, **setting)\n",
    "    model.save(f\"../models/mai-doc2vec-{setting_name}.model\")"
   ]
  },
  {
   "cell_type": "code",
   "execution_count": 9,
   "metadata": {
    "pycharm": {
     "is_executing": false,
     "name": "#%%\n"
    }
   },
   "outputs": [],
   "source": [
    "model = Doc2Vec.load(\"../models/mai-doc2vec-dmpv300d.model\")\n",
    "\n",
    "def find_similar(tag):\n",
    "    for t, sim in model.docvecs.most_similar(tag, topn=30):\n",
    "        if 'S' not in str(t):\n",
    "            return str(t), sim\n",
    "    \n",
    "    return np.nan, np.nan\n",
    "\n",
    "maisho['SIM_ID'], maisho['SIM'] = zip(*maisho.ID.map(find_similar))\n",
    "maisho[['SIM_ID','SIM']]"
   ]
  },
  {
   "cell_type": "code",
   "execution_count": 10,
   "metadata": {
    "pycharm": {
     "is_executing": false,
     "name": "#%%\n"
    }
   },
   "outputs": [],
   "source": [
    "maisho.dropna(subset = ['SIM_ID'])\n",
    "maisho[['SIM_ID','SIM']]"
   ]
  },
  {
   "cell_type": "code",
   "execution_count": 11,
   "metadata": {
    "pycharm": {
     "is_executing": false,
     "name": "#%%\n"
    }
   },
   "outputs": [],
   "source": [
    "mai['ID'] = mai['ID'].astype(str)"
   ]
  },
  {
   "cell_type": "code",
   "execution_count": 12,
   "metadata": {
    "pycharm": {
     "is_executing": false,
     "name": "#%%\n"
    }
   },
   "outputs": [],
   "source": [
    "result = pd.merge(maisho, mai, left_on='SIM_ID', right_on='ID', suffixes=('_Maisho', '_Mai'))\n",
    "result.to_csv('../results/mai_sim.csv', index=False)\n",
    "result"
   ]
  },
  {
   "cell_type": "code",
   "execution_count": 13,
   "metadata": {
    "pycharm": {
     "is_executing": false,
     "name": "#%%\n"
    }
   },
   "outputs": [],
   "source": [
    "result = pd.read_csv('../results/mai_sim.csv')\n",
    "result[['SIM', 'T2_Maisho', 'T2_Mai']]"
   ]
  }
 ],
 "metadata": {
  "kernelspec": {
   "display_name": "Python 3",
   "language": "python",
   "name": "python3"
  },
  "language_info": {
   "codemirror_mode": {
    "name": "ipython",
    "version": 3
   },
   "file_extension": ".py",
   "mimetype": "text/x-python",
   "name": "python",
   "nbconvert_exporter": "python",
   "pygments_lexer": "ipython3",
   "version": "3.7.3"
  },
  "pycharm": {
   "stem_cell": {
    "cell_type": "raw",
    "source": [],
    "metadata": {
     "collapsed": false
    }
   }
  }
 },
 "nbformat": 4,
 "nbformat_minor": 1
}
