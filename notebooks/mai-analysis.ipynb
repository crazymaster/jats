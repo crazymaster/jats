{
 "cells": [
  {
   "cell_type": "code",
   "execution_count": null,
   "metadata": {},
   "outputs": [],
   "source": [
    "import pandas as pd\n",
    "df = pd.read_csv('../results/mai_doc2vec_sim.csv')\n",
    "df"
   ]
  },
  {
   "cell_type": "code",
   "execution_count": null,
   "metadata": {},
   "outputs": [],
   "source": [
    "import spacy\n",
    "nlp = spacy.load('ja_ginza')\n",
    "for p in nlp.pipeline:\n",
    "    print(p)"
   ]
  },
  {
   "cell_type": "code",
   "execution_count": null,
   "metadata": {},
   "outputs": [],
   "source": [
    "import textdistance\n",
    "# text_pair = df.sort_values('SIM', ascending=False).iloc[203][['T2_Mai', 'T2_Maisho', 'SIM']].values.flatten()\n",
    "text_pair = df.sample(1)[['T2_Mai', 'T2_Maisho', 'SIM']].values.flatten()\n",
    "print(text_pair)\n",
    "print('longest common subsequence：', textdistance.lcsseq(text_pair[0], text_pair[1]))\n",
    "print('distance: ', textdistance.lcsseq.distance(text_pair[0], text_pair[1]))\n",
    "print('normalized distance: ', textdistance.lcsseq.normalized_distance(text_pair[0], text_pair[1]))\n",
    "print('similarity: ', textdistance.lcsseq.similarity(text_pair[0], text_pair[1]))\n",
    "print('normalized similarity: ', textdistance.lcsseq.normalized_similarity(text_pair[0], text_pair[1]))"
   ]
  },
  {
   "cell_type": "code",
   "execution_count": null,
   "metadata": {},
   "outputs": [],
   "source": [
    "for i in range(2):\n",
    "    print('-------------------------------------------------')\n",
    "    doc = nlp(text_pair[i])\n",
    "    for s in doc.sents:\n",
    "        print(s)\n",
    "\n",
    "    from spacy import displacy\n",
    "    displacy.render(doc, style=\"ent\")"
   ]
  },
  {
   "cell_type": "code",
   "execution_count": null,
   "metadata": {},
   "outputs": [],
   "source": [
    "import stanfordnlp\n",
    "nlp = stanfordnlp.Pipeline(lang=\"ja\", treebank=\"ja_gsd\")\n",
    "for i in range(2):\n",
    "    print('-------------------------------------------------')\n",
    "    doc = nlp(text_pair[i])\n",
    "    for sen in doc.sentences:\n",
    "        print(' '.join(word.text for word in sen.words))"
   ]
  },
  {
   "cell_type": "code",
   "execution_count": null,
   "metadata": {},
   "outputs": [],
   "source": [
    "%%time\n",
    "import numpy as np\n",
    "import textdistance\n",
    "@np.vectorize\n",
    "def lcs(t1, t2):\n",
    "    return textdistance.lcsseq.normalized_similarity(t1, t2)\n",
    "\n",
    "df['lcs_sim'] = lcs(df['T2_Mai'], df['T2_Maisho'])"
   ]
  },
  {
   "cell_type": "code",
   "execution_count": null,
   "metadata": {},
   "outputs": [],
   "source": [
    "import seaborn as sns\n",
    "import matplotlib.pyplot as plt\n",
    "df_annotated = pd.read_csv('../results/mai_annotated.csv')\n",
    "df_d2v = df.merge(df_annotated[['ID_Maisho', 'ID_Mai', 'Match']], on=['ID_Maisho', 'ID_Mai'], how='left')\n",
    "df_d2v['Match'] = df_d2v['Match'].fillna(-1).astype(int)\n",
    "sns.scatterplot(data=df_d2v, x='SIM', y='lcs_sim', hue='Match', alpha=0.5).set(xlim=(0.0, 1.0), ylim=(0.0, 1.0), aspect=1)\n",
    "df_d2v.plot.hexbin(x='SIM', y='lcs_sim', gridsize=25, sharex=False).set(xlim=(0.0, 1.0), ylim=(0.0, 1.0), aspect=1)\n",
    "plt.show()\n"
   ]
  },
  {
   "cell_type": "code",
   "execution_count": null,
   "metadata": {},
   "outputs": [],
   "source": [
    "lsi = pd.read_csv('../results/mai_lsi_sim.csv')\n",
    "lsi"
   ]
  },
  {
   "cell_type": "code",
   "execution_count": null,
   "metadata": {},
   "outputs": [],
   "source": [
    "%%time\n",
    "lsi['lcs_sim'] = lcs(lsi['T2_Mai'], lsi['T2_Maisho'])"
   ]
  },
  {
   "cell_type": "code",
   "execution_count": null,
   "metadata": {},
   "outputs": [],
   "source": [
    "df_lsi = lsi.merge(df_annotated[['ID_Maisho', 'ID_Mai', 'Match']], on=['ID_Maisho', 'ID_Mai'], how='left')\n",
    "df_lsi['Match'] = df_lsi['Match'].fillna(-1).astype(int)\n",
    "sns.scatterplot(data=df_lsi, x='SIM', y='lcs_sim', hue='Match', alpha=0.5).set(xlim=(0.0, 1.0), ylim=(0.0, 1.0), aspect=1)\n",
    "df_lsi.plot.hexbin(x='SIM', y='lcs_sim', gridsize=25, sharex=False).set(xlim=(0.0, 1.0), ylim=(0.0, 1.0), aspect=1)\n",
    "plt.show()"
   ]
  }
 ],
 "metadata": {
  "kernelspec": {
   "display_name": "Python 3",
   "language": "python",
   "name": "python3"
  },
  "language_info": {
   "codemirror_mode": {
    "name": "ipython",
    "version": 2
   },
   "file_extension": ".py",
   "mimetype": "text/x-python",
   "name": "python",
   "nbconvert_exporter": "python",
   "pygments_lexer": "ipython2",
   "version": "3.6.8"
  },
  "pycharm": {
   "stem_cell": {
    "cell_type": "raw",
    "source": [],
    "metadata": {
     "collapsed": false
    }
   }
  }
 },
 "nbformat": 4,
 "nbformat_minor": 0
}