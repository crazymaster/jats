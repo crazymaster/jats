{
 "cells": [
  {
   "cell_type": "code",
   "execution_count": 15,
   "metadata": {
    "collapsed": true,
    "pycharm": {
     "name": "#%%\n",
     "is_executing": false
    }
   },
   "outputs": [],
   "source": [
    "import pandas as pd\n",
    "import numpy as np\n",
    "from gensim.models.doc2vec import Doc2Vec\n",
    "maisho = pd.read_csv('../data/毎日新聞コーパス/maisho2018-utf8.csv')\n",
    "maisho"
   ]
  },
  {
   "cell_type": "code",
   "source": [
    "from mojimoji import zen_to_han \n",
    "maisho.columns = ['ID', 'C0', 'AD', 'AE', 'AF', 'ZZ', 'T1', 'S1', 'S2', 'T2', 'KB']\n",
    "maisho.drop(maisho.index[maisho.ZZ == '著作権無'], inplace=True)\n",
    "maisho = maisho.applymap(lambda x: zen_to_han(str(x), kana=False))\n",
    "maisho"
   ],
   "metadata": {
    "collapsed": false,
    "pycharm": {
     "name": "#%%\n",
     "is_executing": false
    }
   },
   "execution_count": 16,
   "outputs": []
  },
  {
   "cell_type": "code",
   "execution_count": 17,
   "outputs": [],
   "source": [
    "# ふりがなの削除 ()の中身がひらがなのときのみ\n",
    "maisho.T2 = maisho.T2.str.replace('\\([\\u3041-\\u309F]+\\)', '')\n",
    "maisho.T2"
   ],
   "metadata": {
    "collapsed": false,
    "pycharm": {
     "name": "#%%\n",
     "is_executing": false
    }
   }
  },
  {
   "cell_type": "code",
   "execution_count": 18,
   "outputs": [],
   "source": [
    "mai = pd.read_csv('../data/毎日新聞コーパス/mai2018-utf8.csv')\n",
    "mai"
   ],
   "metadata": {
    "collapsed": false,
    "pycharm": {
     "name": "#%%\n",
     "is_executing": false
    }
   }
  },
  {
   "cell_type": "code",
   "execution_count": 19,
   "outputs": [],
   "source": [
    "mai.drop(mai.index[mai.ZZ == '著作権無'], inplace=True)\n",
    "mai.T2 = mai.T2.str.replace('\\([\\u3041-\\u309F]+\\)', '')\n",
    "mai"
   ],
   "metadata": {
    "collapsed": false,
    "pycharm": {
     "name": "#%%\n",
     "is_executing": false
    }
   }
  },
  {
   "cell_type": "code",
   "execution_count": 20,
   "outputs": [],
   "source": [
    "import MeCab\n",
    "def wakati(text: str) -> str:\n",
    "    \"\"\"分かち書きにして返す\"\"\"\n",
    "    # nd_path = sp.check_output('echo `mecab-config --dicdir`\"/mecab-ipadic-neologd\"',\n",
    "    #                           shell=True).decode().strip('\\n')\n",
    "    # m = MeCab.Tagger(\"-Owakati -d \" + nd_path)\n",
    "    m = MeCab.Tagger(\"-Owakati\")\n",
    "    return m.parse(text)\n",
    "\n",
    "maisho['wakati'] = maisho.T2.map(wakati)\n",
    "mai['wakati'] = mai.T2.map(wakati)"
   ],
   "metadata": {
    "collapsed": false,
    "pycharm": {
     "name": "#%%\n",
     "is_executing": false
    }
   }
  },
  {
   "cell_type": "code",
   "execution_count": null,
   "outputs": [],
   "source": [
    "from gensim.models.doc2vec import TaggedDocument\n",
    "documents = [TaggedDocument(words = text.split(\" \"), tags = [ID]) \n",
    "             for df in [mai, maisho] for ID, text in df[['ID', 'wakati']].values]"
   ],
   "metadata": {
    "collapsed": false,
    "pycharm": {
     "name": "#%%\n",
     "is_executing": true
    }
   }
  },
  {
   "cell_type": "code",
   "execution_count": null,
   "outputs": [],
   "source": [
    "from multiprocessing import cpu_count\n",
    "settings = {\n",
    "    \"dbow300d\": {\"vector_size\": 300,\n",
    "                 \"epochs\": 20,\n",
    "                 \"window\": 15,\n",
    "                 \"min_count\": 5,\n",
    "                 \"dm\": 0,  # PV-DBOW\n",
    "                 \"dbow_words\": 1,\n",
    "                 \"workers\": cpu_count()},\n",
    "    \"dmpv300d\": {\"vector_size\": 300,\n",
    "                 \"epochs\": 20,\n",
    "                 \"window\": 10,\n",
    "                 \"min_count\": 2,\n",
    "                 \"alpha\": 0.05,\n",
    "                 \"dm\": 1,  # PV-DM\n",
    "                 \"sample\": 0,\n",
    "                 \"workers\": cpu_count()}\n",
    "}\n",
    "\n",
    "for setting_name, setting in settings.items():\n",
    "    model = Doc2Vec(documents=documents, **setting)\n",
    "    model.save(f\"../models/mai-doc2vec-{setting_name}.model\")"
   ],
   "metadata": {
    "collapsed": false,
    "pycharm": {
     "name": "#%%\n",
     "is_executing": true
    }
   }
  },
  {
   "cell_type": "code",
   "execution_count": null,
   "outputs": [],
   "source": [
    "model = Doc2Vec.load(\"../models/mai-doc2vec-dmpv300d.model\")\n",
    "\n",
    "def find_similar(tag):\n",
    "    for t, sim in model.docvecs.most_similar(tag, topn=30):\n",
    "        if 'S' not in str(t):\n",
    "            return str(t), sim\n",
    "    \n",
    "    return np.nan, np.nan\n",
    "\n",
    "maisho['SIM_ID'], maisho['SIM'] = zip(*maisho.ID.map(find_similar))\n",
    "maisho[['SIM_ID','SIM']]"
   ],
   "metadata": {
    "collapsed": false,
    "pycharm": {
     "name": "#%%\n",
     "is_executing": true
    }
   }
  },
  {
   "cell_type": "code",
   "execution_count": 10,
   "outputs": [],
   "source": [
    "maisho.dropna(subset = ['SIM_ID'])\n",
    "maisho[['SIM_ID','SIM']]"
   ],
   "metadata": {
    "collapsed": false,
    "pycharm": {
     "name": "#%%\n",
     "is_executing": false
    }
   }
  },
  {
   "cell_type": "code",
   "execution_count": 10,
   "outputs": [],
   "source": [
    "mai['ID'] = mai['ID'].astype(str)"
   ],
   "metadata": {
    "collapsed": false,
    "pycharm": {
     "name": "#%%\n",
     "is_executing": false
    }
   }
  },
  {
   "cell_type": "code",
   "execution_count": 11,
   "outputs": [],
   "source": [
    "result = pd.merge(maisho, mai, left_on='SIM_ID', right_on='ID', suffixes=('_Maisho', '_Mai'))\n",
    "result\n",
    "result.to_csv('../results/mai_sim.csv', index=False)"
   ],
   "metadata": {
    "collapsed": false,
    "pycharm": {
     "name": "#%%\n",
     "is_executing": false
    }
   }
  },
  {
   "cell_type": "code",
   "execution_count": 13,
   "outputs": [],
   "source": [
    "result = pd.read_csv('../results/mai_sim.csv')\n",
    "result[['SIM', 'T2_Maisho', 'T2_Mai']]"
   ],
   "metadata": {
    "collapsed": false,
    "pycharm": {
     "name": "#%%\n",
     "is_executing": false
    }
   }
  }
 ],
 "metadata": {
  "kernelspec": {
   "display_name": "Python 3",
   "language": "python",
   "name": "python3"
  },
  "language_info": {
   "codemirror_mode": {
    "name": "ipython",
    "version": 2
   },
   "file_extension": ".py",
   "mimetype": "text/x-python",
   "name": "python",
   "nbconvert_exporter": "python",
   "pygments_lexer": "ipython2",
   "version": "2.7.6"
  },
  "pycharm": {
   "stem_cell": {
    "cell_type": "raw",
    "source": [],
    "metadata": {
     "collapsed": false
    }
   }
  }
 },
 "nbformat": 4,
 "nbformat_minor": 0
}
